{
 "cells": [
  {
   "cell_type": "code",
   "execution_count": 35,
   "metadata": {},
   "outputs": [],
   "source": [
    "import pandas as pd"
   ]
  },
  {
   "cell_type": "code",
   "execution_count": 36,
   "metadata": {},
   "outputs": [],
   "source": [
    "data=pd.read_csv('Data.csv')"
   ]
  },
  {
   "cell_type": "code",
   "execution_count": 37,
   "metadata": {},
   "outputs": [
    {
     "data": {
      "text/plain": [
       "(4366, 7)"
      ]
     },
     "execution_count": 37,
     "metadata": {},
     "output_type": "execute_result"
    }
   ],
   "source": [
    "data.shape"
   ]
  },
  {
   "cell_type": "code",
   "execution_count": 38,
   "metadata": {},
   "outputs": [],
   "source": [
    "data=data.drop('Unnamed: 0',axis=1)\n",
    "data=data.drop('index',axis=1)"
   ]
  },
  {
   "cell_type": "code",
   "execution_count": 39,
   "metadata": {},
   "outputs": [
    {
     "data": {
      "text/html": [
       "<div>\n",
       "<style scoped>\n",
       "    .dataframe tbody tr th:only-of-type {\n",
       "        vertical-align: middle;\n",
       "    }\n",
       "\n",
       "    .dataframe tbody tr th {\n",
       "        vertical-align: top;\n",
       "    }\n",
       "\n",
       "    .dataframe thead th {\n",
       "        text-align: right;\n",
       "    }\n",
       "</style>\n",
       "<table border=\"1\" class=\"dataframe\">\n",
       "  <thead>\n",
       "    <tr style=\"text-align: right;\">\n",
       "      <th></th>\n",
       "      <th>Member/Company Name</th>\n",
       "      <th>BGMEA Reg No</th>\n",
       "      <th>Contact Person</th>\n",
       "      <th>Email Adddress</th>\n",
       "      <th>Details</th>\n",
       "    </tr>\n",
       "  </thead>\n",
       "  <tbody>\n",
       "    <tr>\n",
       "      <th>0</th>\n",
       "      <td>9 Star Apparels Inds. Ltd.</td>\n",
       "      <td>5751</td>\n",
       "      <td>Mahashin Haque</td>\n",
       "      <td>masud9star@gmail.com</td>\n",
       "      <td>http://www.bgmea.com.bd/member/details/19560</td>\n",
       "    </tr>\n",
       "    <tr>\n",
       "      <th>1</th>\n",
       "      <td>A &amp; A Fashion Sweaters Ltd.</td>\n",
       "      <td>3968</td>\n",
       "      <td>Monowara Begum</td>\n",
       "      <td>NaN</td>\n",
       "      <td>http://www.bgmea.com.bd/member/details/19561</td>\n",
       "    </tr>\n",
       "    <tr>\n",
       "      <th>2</th>\n",
       "      <td>A &amp; A Trousers Ltd.</td>\n",
       "      <td>4671</td>\n",
       "      <td>Md. Mahbubul Alam</td>\n",
       "      <td>mahbub@aandagroupbd.com</td>\n",
       "      <td>http://www.bgmea.com.bd/member/details/19562</td>\n",
       "    </tr>\n",
       "    <tr>\n",
       "      <th>3</th>\n",
       "      <td>A &amp; B Design &amp; Fashion (Pvt.) Ltd.</td>\n",
       "      <td>6211</td>\n",
       "      <td>Sayed Azharul Haque</td>\n",
       "      <td>azhar@synergy-group-ltd.com</td>\n",
       "      <td>http://www.bgmea.com.bd/member/details/19563</td>\n",
       "    </tr>\n",
       "    <tr>\n",
       "      <th>4</th>\n",
       "      <td>A &amp; H Enterprises Ltd.</td>\n",
       "      <td>2190</td>\n",
       "      <td>N.M. Habibur Rahman</td>\n",
       "      <td>habib@mohammadigroup-hr.com</td>\n",
       "      <td>http://www.bgmea.com.bd/member/details/19564</td>\n",
       "    </tr>\n",
       "  </tbody>\n",
       "</table>\n",
       "</div>"
      ],
      "text/plain": [
       "                  Member/Company Name  BGMEA Reg No        Contact Person  \\\n",
       "0          9 Star Apparels Inds. Ltd.          5751       Mahashin Haque    \n",
       "1         A & A Fashion Sweaters Ltd.          3968       Monowara Begum    \n",
       "2                 A & A Trousers Ltd.          4671    Md. Mahbubul Alam    \n",
       "3  A & B Design & Fashion (Pvt.) Ltd.          6211  Sayed Azharul Haque    \n",
       "4              A & H Enterprises Ltd.          2190  N.M. Habibur Rahman    \n",
       "\n",
       "                Email Adddress                                       Details  \n",
       "0         masud9star@gmail.com  http://www.bgmea.com.bd/member/details/19560  \n",
       "1                          NaN  http://www.bgmea.com.bd/member/details/19561  \n",
       "2      mahbub@aandagroupbd.com  http://www.bgmea.com.bd/member/details/19562  \n",
       "3  azhar@synergy-group-ltd.com  http://www.bgmea.com.bd/member/details/19563  \n",
       "4  habib@mohammadigroup-hr.com  http://www.bgmea.com.bd/member/details/19564  "
      ]
     },
     "execution_count": 39,
     "metadata": {},
     "output_type": "execute_result"
    }
   ],
   "source": [
    "data.head()"
   ]
  },
  {
   "cell_type": "code",
   "execution_count": 40,
   "metadata": {},
   "outputs": [],
   "source": [
    "det=pd.read_csv('details_final.csv')"
   ]
  },
  {
   "cell_type": "code",
   "execution_count": 41,
   "metadata": {},
   "outputs": [],
   "source": [
    "det=det.drop('Unnamed: 0',axis=1)"
   ]
  },
  {
   "cell_type": "code",
   "execution_count": 42,
   "metadata": {},
   "outputs": [
    {
     "data": {
      "text/html": [
       "<div>\n",
       "<style scoped>\n",
       "    .dataframe tbody tr th:only-of-type {\n",
       "        vertical-align: middle;\n",
       "    }\n",
       "\n",
       "    .dataframe tbody tr th {\n",
       "        vertical-align: top;\n",
       "    }\n",
       "\n",
       "    .dataframe thead th {\n",
       "        text-align: right;\n",
       "    }\n",
       "</style>\n",
       "<table border=\"1\" class=\"dataframe\">\n",
       "  <thead>\n",
       "    <tr style=\"text-align: right;\">\n",
       "      <th></th>\n",
       "      <th>BGMEA Reg. No.</th>\n",
       "      <th>EPB Reg No.</th>\n",
       "      <th>Name:</th>\n",
       "      <th>Designation:</th>\n",
       "      <th>Phone</th>\n",
       "      <th>Mailling Address</th>\n",
       "      <th>Factory Address</th>\n",
       "      <th>Date of establishment</th>\n",
       "      <th>Factory Type:</th>\n",
       "      <th>No. of Employees</th>\n",
       "      <th>No of Machines</th>\n",
       "      <th>Production Capacity (Yearly in dozen)</th>\n",
       "      <th>Principal exportable product</th>\n",
       "      <th>Annual Turnover</th>\n",
       "    </tr>\n",
       "  </thead>\n",
       "  <tbody>\n",
       "    <tr>\n",
       "      <th>0</th>\n",
       "      <td>5751</td>\n",
       "      <td>0</td>\n",
       "      <td>Mahashin Haque</td>\n",
       "      <td>Director</td>\n",
       "      <td>1711003788</td>\n",
       "      <td>Plot # 56, Vatulia, House # 116, Nurani Madras...</td>\n",
       "      <td>Plot # 56, Vatulia, House # 116, Nurani Madras...</td>\n",
       "      <td>2014</td>\n",
       "      <td>Woven,</td>\n",
       "      <td>255.0</td>\n",
       "      <td>165</td>\n",
       "      <td>208000</td>\n",
       "      <td>Caps,   Hats,   ,</td>\n",
       "      <td>NaN</td>\n",
       "    </tr>\n",
       "    <tr>\n",
       "      <th>1</th>\n",
       "      <td>3968</td>\n",
       "      <td>0</td>\n",
       "      <td>Monowara Begum</td>\n",
       "      <td>Chairman</td>\n",
       "      <td>29264262</td>\n",
       "      <td>Naljani (Wireless Gate),   GazipurSadar</td>\n",
       "      <td>Naljani (Wireless Gate),       Gazipur</td>\n",
       "      <td>2004</td>\n",
       "      <td>Sweater,</td>\n",
       "      <td>700.0</td>\n",
       "      <td>300</td>\n",
       "      <td>72000</td>\n",
       "      <td>Sweaters,   ,   ,</td>\n",
       "      <td>NaN</td>\n",
       "    </tr>\n",
       "    <tr>\n",
       "      <th>2</th>\n",
       "      <td>4671</td>\n",
       "      <td>0</td>\n",
       "      <td>Md. Mahbubul Alam</td>\n",
       "      <td>Managing Director</td>\n",
       "      <td>28824255</td>\n",
       "      <td>House # B-109 (Duplex), Road # 8, New DOHS  Dh...</td>\n",
       "      <td>Haribari Tak, Pubail College Gate      Gazipur...</td>\n",
       "      <td>2008</td>\n",
       "      <td>Knit,Woven,</td>\n",
       "      <td>800.0</td>\n",
       "      <td>518</td>\n",
       "      <td>156000</td>\n",
       "      <td>Ladies Blouses,   Men's Pants,   Denim Jackets...</td>\n",
       "      <td>NaN</td>\n",
       "    </tr>\n",
       "    <tr>\n",
       "      <th>3</th>\n",
       "      <td>6211</td>\n",
       "      <td>0</td>\n",
       "      <td>Sayed Azharul Haque</td>\n",
       "      <td>Managing Director</td>\n",
       "      <td>29111815</td>\n",
       "      <td>House # 23/8, Block # C, Tajmohol Road  DhakaM...</td>\n",
       "      <td>Kalma, Dairy farm      DhakaSavar</td>\n",
       "      <td>2016</td>\n",
       "      <td>Sweater,</td>\n",
       "      <td>0.0</td>\n",
       "      <td>141</td>\n",
       "      <td>20800</td>\n",
       "      <td>Sweater,   ,   ,</td>\n",
       "      <td>NaN</td>\n",
       "    </tr>\n",
       "    <tr>\n",
       "      <th>4</th>\n",
       "      <td>2190</td>\n",
       "      <td>1918</td>\n",
       "      <td>N.M. Habibur Rahman</td>\n",
       "      <td>Managing Director</td>\n",
       "      <td>3894559119</td>\n",
       "      <td>93, Motijheel C/A, (2nd floor)  DhakaMotijheel</td>\n",
       "      <td>Tatki, Tarabo      NarayanganjRupganj</td>\n",
       "      <td>1992</td>\n",
       "      <td>Knit,</td>\n",
       "      <td>110.0</td>\n",
       "      <td>78</td>\n",
       "      <td>60000</td>\n",
       "      <td>T-Shirts,   Polo Shirts,   Ladies Top,</td>\n",
       "      <td>NaN</td>\n",
       "    </tr>\n",
       "  </tbody>\n",
       "</table>\n",
       "</div>"
      ],
      "text/plain": [
       "   BGMEA Reg. No. EPB Reg No.                Name:       Designation:  \\\n",
       "0            5751           0       Mahashin Haque           Director   \n",
       "1            3968           0       Monowara Begum           Chairman   \n",
       "2            4671           0    Md. Mahbubul Alam  Managing Director   \n",
       "3            6211           0  Sayed Azharul Haque  Managing Director   \n",
       "4            2190        1918  N.M. Habibur Rahman  Managing Director   \n",
       "\n",
       "        Phone                                   Mailling Address  \\\n",
       "0  1711003788  Plot # 56, Vatulia, House # 116, Nurani Madras...   \n",
       "1    29264262            Naljani (Wireless Gate),   GazipurSadar   \n",
       "2    28824255  House # B-109 (Duplex), Road # 8, New DOHS  Dh...   \n",
       "3    29111815  House # 23/8, Block # C, Tajmohol Road  DhakaM...   \n",
       "4  3894559119     93, Motijheel C/A, (2nd floor)  DhakaMotijheel   \n",
       "\n",
       "                                     Factory Address Date of establishment  \\\n",
       "0  Plot # 56, Vatulia, House # 116, Nurani Madras...                  2014   \n",
       "1             Naljani (Wireless Gate),       Gazipur                  2004   \n",
       "2  Haribari Tak, Pubail College Gate      Gazipur...                  2008   \n",
       "3                  Kalma, Dairy farm      DhakaSavar                  2016   \n",
       "4              Tatki, Tarabo      NarayanganjRupganj                  1992   \n",
       "\n",
       "  Factory Type:  No. of Employees  No of Machines  \\\n",
       "0        Woven,             255.0             165   \n",
       "1      Sweater,             700.0             300   \n",
       "2   Knit,Woven,             800.0             518   \n",
       "3      Sweater,               0.0             141   \n",
       "4         Knit,             110.0              78   \n",
       "\n",
       "  Production Capacity (Yearly in dozen)  \\\n",
       "0                                208000   \n",
       "1                                 72000   \n",
       "2                                156000   \n",
       "3                                 20800   \n",
       "4                                 60000   \n",
       "\n",
       "                        Principal exportable product Annual Turnover  \n",
       "0                                  Caps,   Hats,   ,             NaN  \n",
       "1                                  Sweaters,   ,   ,             NaN  \n",
       "2  Ladies Blouses,   Men's Pants,   Denim Jackets...             NaN  \n",
       "3                                   Sweater,   ,   ,             NaN  \n",
       "4             T-Shirts,   Polo Shirts,   Ladies Top,             NaN  "
      ]
     },
     "execution_count": 42,
     "metadata": {},
     "output_type": "execute_result"
    }
   ],
   "source": [
    "det.head()"
   ]
  },
  {
   "cell_type": "code",
   "execution_count": 43,
   "metadata": {},
   "outputs": [
    {
     "data": {
      "text/plain": [
       "BGMEA Reg. No.                             int64\n",
       "EPB Reg No.                               object\n",
       "Name:                                     object\n",
       "Designation:                              object\n",
       "Phone                                     object\n",
       "Mailling Address                          object\n",
       "Factory Address                           object\n",
       "Date of establishment                     object\n",
       "Factory Type:                             object\n",
       "No. of Employees                         float64\n",
       "No of Machines                             int64\n",
       "Production Capacity (Yearly in dozen)     object\n",
       "Principal exportable product              object\n",
       "Annual Turnover                           object\n",
       "dtype: object"
      ]
     },
     "execution_count": 43,
     "metadata": {},
     "output_type": "execute_result"
    }
   ],
   "source": [
    "det.dtypes"
   ]
  },
  {
   "cell_type": "code",
   "execution_count": 44,
   "metadata": {},
   "outputs": [
    {
     "data": {
      "text/plain": [
       "Member/Company Name    object\n",
       "BGMEA Reg No            int64\n",
       "Contact Person         object\n",
       "Email Adddress         object\n",
       "Details                object\n",
       "dtype: object"
      ]
     },
     "execution_count": 44,
     "metadata": {},
     "output_type": "execute_result"
    }
   ],
   "source": [
    "data.dtypes"
   ]
  },
  {
   "cell_type": "code",
   "execution_count": 45,
   "metadata": {},
   "outputs": [
    {
     "data": {
      "text/plain": [
       "Index(['Member/Company Name', 'BGMEA Reg No', 'Contact Person',\n",
       "       'Email Adddress', 'Details'],\n",
       "      dtype='object')"
      ]
     },
     "execution_count": 45,
     "metadata": {},
     "output_type": "execute_result"
    }
   ],
   "source": [
    "data.columns"
   ]
  },
  {
   "cell_type": "code",
   "execution_count": 46,
   "metadata": {},
   "outputs": [],
   "source": [
    "merged_inner = pd.merge(left=data, right=det, left_on='BGMEA Reg No', right_on='BGMEA Reg. No.')"
   ]
  },
  {
   "cell_type": "code",
   "execution_count": 47,
   "metadata": {},
   "outputs": [
    {
     "data": {
      "text/plain": [
       "(4366, 19)"
      ]
     },
     "execution_count": 47,
     "metadata": {},
     "output_type": "execute_result"
    }
   ],
   "source": [
    "merged_inner.shape"
   ]
  },
  {
   "cell_type": "code",
   "execution_count": 48,
   "metadata": {},
   "outputs": [],
   "source": [
    "table = pd.read_excel (r'table3.xlsx', sheet_name='Sheet1')"
   ]
  },
  {
   "cell_type": "code",
   "execution_count": 49,
   "metadata": {},
   "outputs": [
    {
     "data": {
      "text/plain": [
       "(4688, 9)"
      ]
     },
     "execution_count": 49,
     "metadata": {},
     "output_type": "execute_result"
    }
   ],
   "source": [
    "table.shape"
   ]
  },
  {
   "cell_type": "code",
   "execution_count": 51,
   "metadata": {},
   "outputs": [],
   "source": [
    "merged_outer = pd.merge(left=table, right=merged_inner,how='outer', left_on='Bcode', right_on='BGMEA Reg. No.')"
   ]
  },
  {
   "cell_type": "code",
   "execution_count": 52,
   "metadata": {},
   "outputs": [
    {
     "data": {
      "text/plain": [
       "(4700, 28)"
      ]
     },
     "execution_count": 52,
     "metadata": {},
     "output_type": "execute_result"
    }
   ],
   "source": [
    "merged_outer.shape"
   ]
  },
  {
   "cell_type": "code",
   "execution_count": 53,
   "metadata": {},
   "outputs": [],
   "source": [
    "tab=merged_outer"
   ]
  },
  {
   "cell_type": "code",
   "execution_count": 54,
   "metadata": {},
   "outputs": [
    {
     "data": {
      "text/plain": [
       "Index(['SL No.', 'Bcode', 'Unit Name', 'OfficeAdd1', 'OfficeAdd2',\n",
       "       'OfficeSubZone', 'OfficeZone', 'OfficeZipCode', 'Email1',\n",
       "       'Member/Company Name', 'BGMEA Reg No', 'Contact Person',\n",
       "       'Email Adddress', 'Details', 'BGMEA Reg. No.', 'EPB Reg No.', 'Name:',\n",
       "       'Designation:', 'Phone', 'Mailling Address', 'Factory Address',\n",
       "       'Date of establishment', 'Factory Type:', 'No. of Employees',\n",
       "       'No of Machines', 'Production Capacity (Yearly in dozen)',\n",
       "       'Principal exportable product', 'Annual Turnover'],\n",
       "      dtype='object')"
      ]
     },
     "execution_count": 54,
     "metadata": {},
     "output_type": "execute_result"
    }
   ],
   "source": [
    "tab.columns"
   ]
  },
  {
   "cell_type": "code",
   "execution_count": 58,
   "metadata": {},
   "outputs": [],
   "source": [
    "tab=tab.drop('BGMEA Reg. No.',axis=1)\n",
    "tab.to_csv('final_table.csv')"
   ]
  },
  {
   "cell_type": "code",
   "execution_count": 55,
   "metadata": {},
   "outputs": [],
   "source": [
    "l=[]\n",
    "l=(tab['Unit Name']==tab['Member/Company Name'])"
   ]
  },
  {
   "cell_type": "code",
   "execution_count": 61,
   "metadata": {},
   "outputs": [
    {
     "ename": "NameError",
     "evalue": "name 'nan' is not defined",
     "output_type": "error",
     "traceback": [
      "\u001b[0;31m---------------------------------------------------------------------------\u001b[0m",
      "\u001b[0;31mNameError\u001b[0m                                 Traceback (most recent call last)",
      "\u001b[0;32m<ipython-input-61-1659629ab4b4>\u001b[0m in \u001b[0;36m<module>\u001b[0;34m\u001b[0m\n\u001b[1;32m      1\u001b[0m \u001b[0;32mfor\u001b[0m \u001b[0mi\u001b[0m\u001b[0;34m,\u001b[0m\u001b[0mitem\u001b[0m \u001b[0;32min\u001b[0m \u001b[0menumerate\u001b[0m\u001b[0;34m(\u001b[0m\u001b[0ml\u001b[0m\u001b[0;34m)\u001b[0m\u001b[0;34m:\u001b[0m\u001b[0;34m\u001b[0m\u001b[0;34m\u001b[0m\u001b[0m\n\u001b[1;32m      2\u001b[0m     \u001b[0;32mif\u001b[0m \u001b[0;32mnot\u001b[0m\u001b[0;34m(\u001b[0m\u001b[0mitem\u001b[0m\u001b[0;34m)\u001b[0m\u001b[0;34m:\u001b[0m\u001b[0;34m\u001b[0m\u001b[0;34m\u001b[0m\u001b[0m\n\u001b[0;32m----> 3\u001b[0;31m         \u001b[0;32mif\u001b[0m\u001b[0;34m(\u001b[0m\u001b[0mtab\u001b[0m\u001b[0;34m[\u001b[0m\u001b[0;34m'Unit Name'\u001b[0m\u001b[0;34m]\u001b[0m\u001b[0;34m[\u001b[0m\u001b[0mi\u001b[0m\u001b[0;34m]\u001b[0m\u001b[0;34m!=\u001b[0m\u001b[0mnan\u001b[0m \u001b[0;32mand\u001b[0m \u001b[0mtab\u001b[0m\u001b[0;34m[\u001b[0m\u001b[0;34m'Member/Company Name'\u001b[0m\u001b[0;34m]\u001b[0m\u001b[0;34m[\u001b[0m\u001b[0mi\u001b[0m\u001b[0;34m]\u001b[0m\u001b[0;34m!=\u001b[0m\u001b[0mnan\u001b[0m\u001b[0;34m)\u001b[0m\u001b[0;34m:\u001b[0m\u001b[0;34m\u001b[0m\u001b[0;34m\u001b[0m\u001b[0m\n\u001b[0m\u001b[1;32m      4\u001b[0m             \u001b[0mprint\u001b[0m \u001b[0;34m(\u001b[0m\u001b[0mi\u001b[0m\u001b[0;34m,\u001b[0m\u001b[0;34m\"     \"\u001b[0m\u001b[0;34m,\u001b[0m\u001b[0mtab\u001b[0m\u001b[0;34m[\u001b[0m\u001b[0;34m'Unit Name'\u001b[0m\u001b[0;34m]\u001b[0m\u001b[0;34m[\u001b[0m\u001b[0mi\u001b[0m\u001b[0;34m]\u001b[0m\u001b[0;34m,\u001b[0m\u001b[0;34m\"        \"\u001b[0m\u001b[0;34m,\u001b[0m\u001b[0mtab\u001b[0m\u001b[0;34m[\u001b[0m\u001b[0;34m'Member/Company Name'\u001b[0m\u001b[0;34m]\u001b[0m\u001b[0;34m[\u001b[0m\u001b[0mi\u001b[0m\u001b[0;34m]\u001b[0m\u001b[0;34m)\u001b[0m\u001b[0;34m\u001b[0m\u001b[0;34m\u001b[0m\u001b[0m\n\u001b[1;32m      5\u001b[0m \u001b[0;34m\u001b[0m\u001b[0m\n",
      "\u001b[0;31mNameError\u001b[0m: name 'nan' is not defined"
     ]
    }
   ],
   "source": [
    "for i,item in enumerate(l):\n",
    "    if not(item):\n",
    "        if(tab['Unit Name'][i]!=nan and tab['Member/Company Name'][i]!=nan):\n",
    "            print (i,\"     \",tab['Unit Name'][i],\"        \",tab['Member/Company Name'][i])\n",
    "    "
   ]
  },
  {
   "cell_type": "code",
   "execution_count": null,
   "metadata": {},
   "outputs": [],
   "source": []
  }
 ],
 "metadata": {
  "kernelspec": {
   "display_name": "Python 3",
   "language": "python",
   "name": "python3"
  },
  "language_info": {
   "codemirror_mode": {
    "name": "ipython",
    "version": 3
   },
   "file_extension": ".py",
   "mimetype": "text/x-python",
   "name": "python",
   "nbconvert_exporter": "python",
   "pygments_lexer": "ipython3",
   "version": "3.7.7"
  }
 },
 "nbformat": 4,
 "nbformat_minor": 4
}
