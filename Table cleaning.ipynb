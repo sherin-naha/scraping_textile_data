{
 "cells": [
  {
   "cell_type": "code",
   "execution_count": 52,
   "metadata": {},
   "outputs": [],
   "source": [
    "import pandas as pd\n",
    "import re"
   ]
  },
  {
   "cell_type": "code",
   "execution_count": 79,
   "metadata": {},
   "outputs": [],
   "source": [
    "df1=pd.read_csv('details_1.csv')\n",
    "df2=pd.read_csv('details_2.csv')\n",
    "\n",
    "frames=[df1,df2]\n",
    "data=pd.concat(frames)"
   ]
  },
  {
   "cell_type": "code",
   "execution_count": 80,
   "metadata": {},
   "outputs": [
    {
     "data": {
      "text/plain": [
       "(4217, 14)"
      ]
     },
     "execution_count": 80,
     "metadata": {},
     "output_type": "execute_result"
    }
   ],
   "source": [
    "data.shape"
   ]
  },
  {
   "cell_type": "code",
   "execution_count": 81,
   "metadata": {},
   "outputs": [],
   "source": [
    "data.drop_duplicates(keep='first', inplace=True)\n",
    "data.reset_index(inplace=True)"
   ]
  },
  {
   "cell_type": "code",
   "execution_count": 82,
   "metadata": {},
   "outputs": [
    {
     "data": {
      "text/plain": [
       "(4217, 15)"
      ]
     },
     "execution_count": 82,
     "metadata": {},
     "output_type": "execute_result"
    }
   ],
   "source": [
    "data.shape"
   ]
  },
  {
   "cell_type": "code",
   "execution_count": 83,
   "metadata": {},
   "outputs": [],
   "source": [
    "def clean_text(text):\n",
    "    text=text.replace('\\n','')\n",
    "    text=text.replace('\\t','')\n",
    "    \n",
    "    return text\n",
    "def clean_factory_type(text):\n",
    "    text=text.replace('Type\\nPriority','')\n",
    "    text=text.replace('\\n5',',')\n",
    "    text=text.replace('\\n','')\n",
    "    return text\n",
    "\n",
    "def clean_employee(text):\n",
    "    text=text.replace('\\n','')\n",
    "    text=text.replace('\\t','')\n",
    "    text=text.replace('Management','')\n",
    "    text=text.replace('Male','')\n",
    "    text=text.replace('Female','')\n",
    "    text=text.replace('Employee','')\n",
    "    text=text.replace(' ','')\n",
    "    text=text.replace('\\xa0','')\n",
    "    return text"
   ]
  },
  {
   "cell_type": "code",
   "execution_count": 84,
   "metadata": {},
   "outputs": [],
   "source": [
    "data['Mailling Address']=data['Mailling Address'].apply(lambda x: clean_text(x))\n",
    "data['Factory Address']=data['Factory Address'].apply(lambda x: clean_text(x))\n",
    "data['Factory Type:']=data['Factory Type:'].apply(lambda x: clean_factory_type(x))\n",
    "data['Principal exportable product']=data['Principal exportable product'].apply(lambda x: clean_text(x))\n",
    "data['No. of Employees']=data['No. of Employees'].apply(lambda x: clean_employee(x))"
   ]
  },
  {
   "cell_type": "code",
   "execution_count": 85,
   "metadata": {},
   "outputs": [
    {
     "data": {
      "text/html": [
       "<div>\n",
       "<style scoped>\n",
       "    .dataframe tbody tr th:only-of-type {\n",
       "        vertical-align: middle;\n",
       "    }\n",
       "\n",
       "    .dataframe tbody tr th {\n",
       "        vertical-align: top;\n",
       "    }\n",
       "\n",
       "    .dataframe thead th {\n",
       "        text-align: right;\n",
       "    }\n",
       "</style>\n",
       "<table border=\"1\" class=\"dataframe\">\n",
       "  <thead>\n",
       "    <tr style=\"text-align: right;\">\n",
       "      <th></th>\n",
       "      <th>index</th>\n",
       "      <th>BGMEA Reg. No.</th>\n",
       "      <th>EPB Reg No.</th>\n",
       "      <th>Name:</th>\n",
       "      <th>Designation:</th>\n",
       "      <th>Mailling Address</th>\n",
       "      <th>Factory Address</th>\n",
       "      <th>Date of establishment</th>\n",
       "      <th>Factory Type:</th>\n",
       "      <th>No. of Employees</th>\n",
       "      <th>No of Machines</th>\n",
       "      <th>Production Capacity (Yearly in dozen)</th>\n",
       "      <th>Principal exportable product</th>\n",
       "      <th>Annual Turnover</th>\n",
       "    </tr>\n",
       "  </thead>\n",
       "  <tbody>\n",
       "    <tr>\n",
       "      <th>0</th>\n",
       "      <td>0</td>\n",
       "      <td>5996</td>\n",
       "      <td>0</td>\n",
       "      <td>Chowdhury Azhar Uddin</td>\n",
       "      <td>Chairman</td>\n",
       "      <td>Holding # 2059, Joy Bangla Road, National Univ...</td>\n",
       "      <td>Holding # 2059, Joy Bangla Road, National Univ...</td>\n",
       "      <td>2015</td>\n",
       "      <td>Woven,</td>\n",
       "      <td>180</td>\n",
       "      <td>100</td>\n",
       "      <td>100000</td>\n",
       "      <td>Shirts,   Pants,   ,</td>\n",
       "      <td>Year\\nUS $</td>\n",
       "    </tr>\n",
       "    <tr>\n",
       "      <th>1</th>\n",
       "      <td>1</td>\n",
       "      <td>5161</td>\n",
       "      <td>0</td>\n",
       "      <td>Atique Hossain</td>\n",
       "      <td>Managing Director</td>\n",
       "      <td>Khejur Bagan, Baro Ashulia  DhakaSavar</td>\n",
       "      <td>Khejur Bagar, Baro Ashulia      DhakaSavar</td>\n",
       "      <td>2010</td>\n",
       "      <td>Knit,</td>\n",
       "      <td>350</td>\n",
       "      <td>114</td>\n",
       "      <td>600000</td>\n",
       "      <td>T-Shirts,   Polo Shirts,   ,</td>\n",
       "      <td>Year\\nUS $</td>\n",
       "    </tr>\n",
       "    <tr>\n",
       "      <th>2</th>\n",
       "      <td>2</td>\n",
       "      <td>4980</td>\n",
       "      <td>0</td>\n",
       "      <td>F.M. Kabir Mohiuddin</td>\n",
       "      <td>Managing Director</td>\n",
       "      <td>39, Dilkusha C/A,   DhakaMotijheel</td>\n",
       "      <td>Lithe Complex, Asian High Way, Shanarpar      ...</td>\n",
       "      <td>2009</td>\n",
       "      <td>Knit,</td>\n",
       "      <td>250</td>\n",
       "      <td>116</td>\n",
       "      <td>100000</td>\n",
       "      <td>T-Shirts,   Polo Shirts,   ,</td>\n",
       "      <td>Year\\nUS $</td>\n",
       "    </tr>\n",
       "    <tr>\n",
       "      <th>3</th>\n",
       "      <td>3</td>\n",
       "      <td>5771</td>\n",
       "      <td>0</td>\n",
       "      <td>Nazrul Islam Sikder</td>\n",
       "      <td>Managing Director</td>\n",
       "      <td>House # 14, Flat # 1, Road # 6, Sector # 1  Dh...</td>\n",
       "      <td>Plot # 2924,2925,2939,2940, (Chairman Plaza) D...</td>\n",
       "      <td>2014</td>\n",
       "      <td>Knit,Woven,</td>\n",
       "      <td>250</td>\n",
       "      <td>263</td>\n",
       "      <td>20000</td>\n",
       "      <td>Shirts,   Pants,   T-Shirts,   Polo Shirts</td>\n",
       "      <td>Year\\nUS $</td>\n",
       "    </tr>\n",
       "    <tr>\n",
       "      <th>4</th>\n",
       "      <td>4</td>\n",
       "      <td>6052</td>\n",
       "      <td>0</td>\n",
       "      <td>Md Shafiqul Islam</td>\n",
       "      <td>Managing Director</td>\n",
       "      <td>144/1, Alubdi (Ground &amp; 1st Floor), Pallobi  D...</td>\n",
       "      <td>144/1, Alubdi (Ground &amp; 1st Floor), Pallobi   ...</td>\n",
       "      <td>2015</td>\n",
       "      <td>Knit,</td>\n",
       "      <td>65</td>\n",
       "      <td>52</td>\n",
       "      <td>75000</td>\n",
       "      <td>T-Shirts,   Polo Shirts,   ,</td>\n",
       "      <td>Year\\nUS $</td>\n",
       "    </tr>\n",
       "  </tbody>\n",
       "</table>\n",
       "</div>"
      ],
      "text/plain": [
       "   index  BGMEA Reg. No.  EPB Reg No.                  Name:  \\\n",
       "0      0            5996            0  Chowdhury Azhar Uddin   \n",
       "1      1            5161            0         Atique Hossain   \n",
       "2      2            4980            0   F.M. Kabir Mohiuddin   \n",
       "3      3            5771            0    Nazrul Islam Sikder   \n",
       "4      4            6052            0      Md Shafiqul Islam   \n",
       "\n",
       "        Designation:                                   Mailling Address  \\\n",
       "0           Chairman  Holding # 2059, Joy Bangla Road, National Univ...   \n",
       "1  Managing Director             Khejur Bagan, Baro Ashulia  DhakaSavar   \n",
       "2  Managing Director                 39, Dilkusha C/A,   DhakaMotijheel   \n",
       "3  Managing Director  House # 14, Flat # 1, Road # 6, Sector # 1  Dh...   \n",
       "4  Managing Director  144/1, Alubdi (Ground & 1st Floor), Pallobi  D...   \n",
       "\n",
       "                                     Factory Address Date of establishment  \\\n",
       "0  Holding # 2059, Joy Bangla Road, National Univ...                  2015   \n",
       "1         Khejur Bagar, Baro Ashulia      DhakaSavar                  2010   \n",
       "2  Lithe Complex, Asian High Way, Shanarpar      ...                  2009   \n",
       "3  Plot # 2924,2925,2939,2940, (Chairman Plaza) D...                  2014   \n",
       "4  144/1, Alubdi (Ground & 1st Floor), Pallobi   ...                  2015   \n",
       "\n",
       "  Factory Type: No. of Employees  No of Machines  \\\n",
       "0        Woven,              180             100   \n",
       "1         Knit,              350             114   \n",
       "2         Knit,              250             116   \n",
       "3   Knit,Woven,              250             263   \n",
       "4         Knit,               65              52   \n",
       "\n",
       "   Production Capacity (Yearly in dozen)  \\\n",
       "0                                 100000   \n",
       "1                                 600000   \n",
       "2                                 100000   \n",
       "3                                  20000   \n",
       "4                                  75000   \n",
       "\n",
       "                 Principal exportable product Annual Turnover  \n",
       "0                        Shirts,   Pants,   ,      Year\\nUS $  \n",
       "1                T-Shirts,   Polo Shirts,   ,      Year\\nUS $  \n",
       "2                T-Shirts,   Polo Shirts,   ,      Year\\nUS $  \n",
       "3  Shirts,   Pants,   T-Shirts,   Polo Shirts      Year\\nUS $  \n",
       "4                T-Shirts,   Polo Shirts,   ,      Year\\nUS $  "
      ]
     },
     "execution_count": 85,
     "metadata": {},
     "output_type": "execute_result"
    }
   ],
   "source": [
    "data=data.drop('Unnamed: 0',axis=1)\n",
    "data.head()"
   ]
  },
  {
   "cell_type": "code",
   "execution_count": 89,
   "metadata": {},
   "outputs": [],
   "source": [
    "data.to_csv('details_final.csv')"
   ]
  },
  {
   "cell_type": "code",
   "execution_count": 88,
   "metadata": {},
   "outputs": [
    {
     "data": {
      "text/plain": [
       "(4217, 14)"
      ]
     },
     "execution_count": 88,
     "metadata": {},
     "output_type": "execute_result"
    }
   ],
   "source": [
    "data.shape"
   ]
  },
  {
   "cell_type": "code",
   "execution_count": null,
   "metadata": {},
   "outputs": [],
   "source": []
  }
 ],
 "metadata": {
  "kernelspec": {
   "display_name": "Python 3",
   "language": "python",
   "name": "python3"
  },
  "language_info": {
   "codemirror_mode": {
    "name": "ipython",
    "version": 3
   },
   "file_extension": ".py",
   "mimetype": "text/x-python",
   "name": "python",
   "nbconvert_exporter": "python",
   "pygments_lexer": "ipython3",
   "version": "3.7.7"
  }
 },
 "nbformat": 4,
 "nbformat_minor": 4
}
